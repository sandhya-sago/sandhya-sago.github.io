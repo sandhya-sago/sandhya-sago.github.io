{
 "cells": [
  {
   "cell_type": "code",
   "execution_count": 1,
   "metadata": {},
   "outputs": [],
   "source": [
    "import pandas as pd\n",
    "import json\n",
    "from pandas.io.json import json_normalize    \n",
    "import numpy as np\n",
    "from flatten_json import flatten\n",
    "import itertools\n",
    "from pprint import pprint  as pprint\n",
    "github_json_file = \"repos_top_recent_languages-20180906-194944.json\""
   ]
  },
  {
   "cell_type": "code",
   "execution_count": 2,
   "metadata": {},
   "outputs": [],
   "source": [
    "with open(github_json_file) as data_file:    \n",
    "    data = json.load(data_file)  "
   ]
  },
  {
   "cell_type": "code",
   "execution_count": 3,
   "metadata": {},
   "outputs": [],
   "source": [
    "df1 = json_normalize(data, 'LANGUAGE', ['repo_name','watch_count'], \n",
    "                    record_prefix='language_')"
   ]
  },
  {
   "cell_type": "code",
   "execution_count": 4,
   "metadata": {},
   "outputs": [
    {
     "data": {
      "text/plain": [
       "(49315, 4)"
      ]
     },
     "execution_count": 4,
     "metadata": {},
     "output_type": "execute_result"
    }
   ],
   "source": [
    "df1.shape"
   ]
  },
  {
   "cell_type": "code",
   "execution_count": 5,
   "metadata": {},
   "outputs": [],
   "source": [
    "#Drop if language is < 500 bytes\n",
    "df1[\"language_bytes\"] = df1[\"language_bytes\"].map(int)\n",
    "\n",
    "df1.dtypes\n",
    "df1 = df1[df1[\"language_bytes\"] > 500]"
   ]
  },
  {
   "cell_type": "code",
   "execution_count": 6,
   "metadata": {},
   "outputs": [
    {
     "data": {
      "text/html": [
       "<div>\n",
       "<style scoped>\n",
       "    .dataframe tbody tr th:only-of-type {\n",
       "        vertical-align: middle;\n",
       "    }\n",
       "\n",
       "    .dataframe tbody tr th {\n",
       "        vertical-align: top;\n",
       "    }\n",
       "\n",
       "    .dataframe thead th {\n",
       "        text-align: right;\n",
       "    }\n",
       "</style>\n",
       "<table border=\"1\" class=\"dataframe\">\n",
       "  <thead>\n",
       "    <tr style=\"text-align: right;\">\n",
       "      <th></th>\n",
       "      <th>LANGUAGE</th>\n",
       "      <th>repo_name</th>\n",
       "      <th>watch_count</th>\n",
       "    </tr>\n",
       "  </thead>\n",
       "  <tbody>\n",
       "    <tr>\n",
       "      <th>0</th>\n",
       "      <td>[{'name': 'CSS', 'bytes': '190263'}, {'name': ...</td>\n",
       "      <td>FreeCodeCamp/FreeCodeCamp</td>\n",
       "      <td>90457</td>\n",
       "    </tr>\n",
       "    <tr>\n",
       "      <th>1</th>\n",
       "      <td>[]</td>\n",
       "      <td>joshbuchea/HEAD</td>\n",
       "      <td>13125</td>\n",
       "    </tr>\n",
       "    <tr>\n",
       "      <th>2</th>\n",
       "      <td>[{'name': 'Assembly', 'bytes': '1286'}, {'name...</td>\n",
       "      <td>tensorflow/tensorflow</td>\n",
       "      <td>10728</td>\n",
       "    </tr>\n",
       "    <tr>\n",
       "      <th>3</th>\n",
       "      <td>[{'name': 'C', 'bytes': '5219'}, {'name': 'C++...</td>\n",
       "      <td>facebook/react</td>\n",
       "      <td>10458</td>\n",
       "    </tr>\n",
       "    <tr>\n",
       "      <th>4</th>\n",
       "      <td>[]</td>\n",
       "      <td>loverajoel/jstips</td>\n",
       "      <td>9585</td>\n",
       "    </tr>\n",
       "  </tbody>\n",
       "</table>\n",
       "</div>"
      ],
      "text/plain": [
       "                                            LANGUAGE  \\\n",
       "0  [{'name': 'CSS', 'bytes': '190263'}, {'name': ...   \n",
       "1                                                 []   \n",
       "2  [{'name': 'Assembly', 'bytes': '1286'}, {'name...   \n",
       "3  [{'name': 'C', 'bytes': '5219'}, {'name': 'C++...   \n",
       "4                                                 []   \n",
       "\n",
       "                   repo_name  watch_count  \n",
       "0  FreeCodeCamp/FreeCodeCamp        90457  \n",
       "1            joshbuchea/HEAD        13125  \n",
       "2      tensorflow/tensorflow        10728  \n",
       "3             facebook/react        10458  \n",
       "4          loverajoel/jstips         9585  "
      ]
     },
     "execution_count": 6,
     "metadata": {},
     "output_type": "execute_result"
    }
   ],
   "source": [
    "df2 = pd.read_json(github_json_file)\n",
    "df2.head()"
   ]
  },
  {
   "cell_type": "code",
   "execution_count": 7,
   "metadata": {},
   "outputs": [
    {
     "data": {
      "text/html": [
       "<div>\n",
       "<style scoped>\n",
       "    .dataframe tbody tr th:only-of-type {\n",
       "        vertical-align: middle;\n",
       "    }\n",
       "\n",
       "    .dataframe tbody tr th {\n",
       "        vertical-align: top;\n",
       "    }\n",
       "\n",
       "    .dataframe thead th {\n",
       "        text-align: right;\n",
       "    }\n",
       "</style>\n",
       "<table border=\"1\" class=\"dataframe\">\n",
       "  <thead>\n",
       "    <tr style=\"text-align: right;\">\n",
       "      <th></th>\n",
       "      <th>repo_name</th>\n",
       "      <th>watch_count</th>\n",
       "    </tr>\n",
       "  </thead>\n",
       "  <tbody>\n",
       "    <tr>\n",
       "      <th>1</th>\n",
       "      <td>joshbuchea/HEAD</td>\n",
       "      <td>13125</td>\n",
       "    </tr>\n",
       "    <tr>\n",
       "      <th>4</th>\n",
       "      <td>loverajoel/jstips</td>\n",
       "      <td>9585</td>\n",
       "    </tr>\n",
       "    <tr>\n",
       "      <th>7</th>\n",
       "      <td>caesar0301/awesome-public-datasets</td>\n",
       "      <td>8653</td>\n",
       "    </tr>\n",
       "    <tr>\n",
       "      <th>11</th>\n",
       "      <td>googlesamples/android-architecture</td>\n",
       "      <td>7713</td>\n",
       "    </tr>\n",
       "    <tr>\n",
       "      <th>46</th>\n",
       "      <td>johnpapa/angular-styleguide</td>\n",
       "      <td>4403</td>\n",
       "    </tr>\n",
       "  </tbody>\n",
       "</table>\n",
       "</div>"
      ],
      "text/plain": [
       "                             repo_name  watch_count\n",
       "1                      joshbuchea/HEAD        13125\n",
       "4                    loverajoel/jstips         9585\n",
       "7   caesar0301/awesome-public-datasets         8653\n",
       "11  googlesamples/android-architecture         7713\n",
       "46         johnpapa/angular-styleguide         4403"
      ]
     },
     "execution_count": 7,
     "metadata": {},
     "output_type": "execute_result"
    }
   ],
   "source": [
    "df3 = df2[df2.astype(str)[\"LANGUAGE\"]=='[]'].drop(labels=\"LANGUAGE\", axis='columns')\n",
    "df3.head()"
   ]
  },
  {
   "cell_type": "code",
   "execution_count": 8,
   "metadata": {},
   "outputs": [
    {
     "data": {
      "text/html": [
       "<div>\n",
       "<style scoped>\n",
       "    .dataframe tbody tr th:only-of-type {\n",
       "        vertical-align: middle;\n",
       "    }\n",
       "\n",
       "    .dataframe tbody tr th {\n",
       "        vertical-align: top;\n",
       "    }\n",
       "\n",
       "    .dataframe thead th {\n",
       "        text-align: right;\n",
       "    }\n",
       "</style>\n",
       "<table border=\"1\" class=\"dataframe\">\n",
       "  <thead>\n",
       "    <tr style=\"text-align: right;\">\n",
       "      <th></th>\n",
       "      <th>language_bytes</th>\n",
       "      <th>language_name</th>\n",
       "      <th>repo_name</th>\n",
       "      <th>watch_count</th>\n",
       "    </tr>\n",
       "  </thead>\n",
       "  <tbody>\n",
       "    <tr>\n",
       "      <th>1</th>\n",
       "      <td>0</td>\n",
       "      <td>None</td>\n",
       "      <td>joshbuchea/HEAD</td>\n",
       "      <td>13125</td>\n",
       "    </tr>\n",
       "    <tr>\n",
       "      <th>4</th>\n",
       "      <td>0</td>\n",
       "      <td>None</td>\n",
       "      <td>loverajoel/jstips</td>\n",
       "      <td>9585</td>\n",
       "    </tr>\n",
       "    <tr>\n",
       "      <th>7</th>\n",
       "      <td>0</td>\n",
       "      <td>None</td>\n",
       "      <td>caesar0301/awesome-public-datasets</td>\n",
       "      <td>8653</td>\n",
       "    </tr>\n",
       "    <tr>\n",
       "      <th>11</th>\n",
       "      <td>0</td>\n",
       "      <td>None</td>\n",
       "      <td>googlesamples/android-architecture</td>\n",
       "      <td>7713</td>\n",
       "    </tr>\n",
       "    <tr>\n",
       "      <th>46</th>\n",
       "      <td>0</td>\n",
       "      <td>None</td>\n",
       "      <td>johnpapa/angular-styleguide</td>\n",
       "      <td>4403</td>\n",
       "    </tr>\n",
       "  </tbody>\n",
       "</table>\n",
       "</div>"
      ],
      "text/plain": [
       "    language_bytes language_name                           repo_name  \\\n",
       "1                0          None                     joshbuchea/HEAD   \n",
       "4                0          None                   loverajoel/jstips   \n",
       "7                0          None  caesar0301/awesome-public-datasets   \n",
       "11               0          None  googlesamples/android-architecture   \n",
       "46               0          None         johnpapa/angular-styleguide   \n",
       "\n",
       "    watch_count  \n",
       "1         13125  \n",
       "4          9585  \n",
       "7          8653  \n",
       "11         7713  \n",
       "46         4403  "
      ]
     },
     "execution_count": 8,
     "metadata": {},
     "output_type": "execute_result"
    }
   ],
   "source": [
    "df3[\"language_name\"] = \"None\"\n",
    "df3[\"language_bytes\"] = 0\n",
    "cols = list(df1.columns.values)\n",
    "df3 = df3[cols]\n",
    "df3.head()"
   ]
  },
  {
   "cell_type": "code",
   "execution_count": 9,
   "metadata": {},
   "outputs": [
    {
     "data": {
      "text/html": [
       "<div>\n",
       "<style scoped>\n",
       "    .dataframe tbody tr th:only-of-type {\n",
       "        vertical-align: middle;\n",
       "    }\n",
       "\n",
       "    .dataframe tbody tr th {\n",
       "        vertical-align: top;\n",
       "    }\n",
       "\n",
       "    .dataframe thead th {\n",
       "        text-align: right;\n",
       "    }\n",
       "</style>\n",
       "<table border=\"1\" class=\"dataframe\">\n",
       "  <thead>\n",
       "    <tr style=\"text-align: right;\">\n",
       "      <th></th>\n",
       "      <th>language_bytes</th>\n",
       "      <th>language_name</th>\n",
       "      <th>repo_name</th>\n",
       "      <th>watch_count</th>\n",
       "    </tr>\n",
       "  </thead>\n",
       "  <tbody>\n",
       "    <tr>\n",
       "      <th>45192</th>\n",
       "      <td>0</td>\n",
       "      <td>None</td>\n",
       "      <td>GalliumOS/galliumos-distro</td>\n",
       "      <td>47</td>\n",
       "    </tr>\n",
       "    <tr>\n",
       "      <th>45193</th>\n",
       "      <td>0</td>\n",
       "      <td>None</td>\n",
       "      <td>adwiv/android-fat-aar</td>\n",
       "      <td>46</td>\n",
       "    </tr>\n",
       "    <tr>\n",
       "      <th>45194</th>\n",
       "      <td>0</td>\n",
       "      <td>None</td>\n",
       "      <td>Medalink/laravel-blade</td>\n",
       "      <td>46</td>\n",
       "    </tr>\n",
       "    <tr>\n",
       "      <th>45195</th>\n",
       "      <td>0</td>\n",
       "      <td>None</td>\n",
       "      <td>wspl/mactype-hack</td>\n",
       "      <td>46</td>\n",
       "    </tr>\n",
       "    <tr>\n",
       "      <th>45196</th>\n",
       "      <td>0</td>\n",
       "      <td>None</td>\n",
       "      <td>mediachain/mediachain</td>\n",
       "      <td>46</td>\n",
       "    </tr>\n",
       "  </tbody>\n",
       "</table>\n",
       "</div>"
      ],
      "text/plain": [
       "       language_bytes language_name                   repo_name watch_count\n",
       "45192               0          None  GalliumOS/galliumos-distro          47\n",
       "45193               0          None       adwiv/android-fat-aar          46\n",
       "45194               0          None      Medalink/laravel-blade          46\n",
       "45195               0          None           wspl/mactype-hack          46\n",
       "45196               0          None       mediachain/mediachain          46"
      ]
     },
     "execution_count": 9,
     "metadata": {},
     "output_type": "execute_result"
    }
   ],
   "source": [
    "df1 = df1.append(df3, ignore_index=True)\n",
    "df1.tail()"
   ]
  },
  {
   "cell_type": "code",
   "execution_count": 10,
   "metadata": {},
   "outputs": [
    {
     "data": {
      "text/html": [
       "<div>\n",
       "<style scoped>\n",
       "    .dataframe tbody tr th:only-of-type {\n",
       "        vertical-align: middle;\n",
       "    }\n",
       "\n",
       "    .dataframe tbody tr th {\n",
       "        vertical-align: top;\n",
       "    }\n",
       "\n",
       "    .dataframe thead th {\n",
       "        text-align: right;\n",
       "    }\n",
       "</style>\n",
       "<table border=\"1\" class=\"dataframe\">\n",
       "  <thead>\n",
       "    <tr style=\"text-align: right;\">\n",
       "      <th></th>\n",
       "      <th>language_bytes</th>\n",
       "      <th>language_name</th>\n",
       "      <th>repo_name</th>\n",
       "      <th>watch_count</th>\n",
       "    </tr>\n",
       "  </thead>\n",
       "  <tbody>\n",
       "    <tr>\n",
       "      <th>0</th>\n",
       "      <td>190263</td>\n",
       "      <td>CSS</td>\n",
       "      <td>FreeCodeCamp/FreeCodeCamp</td>\n",
       "      <td>90457</td>\n",
       "    </tr>\n",
       "    <tr>\n",
       "      <th>1</th>\n",
       "      <td>160430</td>\n",
       "      <td>HTML</td>\n",
       "      <td>FreeCodeCamp/FreeCodeCamp</td>\n",
       "      <td>90457</td>\n",
       "    </tr>\n",
       "    <tr>\n",
       "      <th>2</th>\n",
       "      <td>546299</td>\n",
       "      <td>JavaScript</td>\n",
       "      <td>FreeCodeCamp/FreeCodeCamp</td>\n",
       "      <td>90457</td>\n",
       "    </tr>\n",
       "    <tr>\n",
       "      <th>3</th>\n",
       "      <td>1286</td>\n",
       "      <td>Assembly</td>\n",
       "      <td>tensorflow/tensorflow</td>\n",
       "      <td>10728</td>\n",
       "    </tr>\n",
       "    <tr>\n",
       "      <th>4</th>\n",
       "      <td>9258</td>\n",
       "      <td>Batchfile</td>\n",
       "      <td>tensorflow/tensorflow</td>\n",
       "      <td>10728</td>\n",
       "    </tr>\n",
       "  </tbody>\n",
       "</table>\n",
       "</div>"
      ],
      "text/plain": [
       "   language_bytes language_name                  repo_name watch_count\n",
       "0          190263           CSS  FreeCodeCamp/FreeCodeCamp       90457\n",
       "1          160430          HTML  FreeCodeCamp/FreeCodeCamp       90457\n",
       "2          546299    JavaScript  FreeCodeCamp/FreeCodeCamp       90457\n",
       "3            1286      Assembly      tensorflow/tensorflow       10728\n",
       "4            9258     Batchfile      tensorflow/tensorflow       10728"
      ]
     },
     "execution_count": 10,
     "metadata": {},
     "output_type": "execute_result"
    }
   ],
   "source": [
    "df1.head()"
   ]
  },
  {
   "cell_type": "code",
   "execution_count": 11,
   "metadata": {},
   "outputs": [
    {
     "data": {
      "text/html": [
       "<div>\n",
       "<style scoped>\n",
       "    .dataframe tbody tr th:only-of-type {\n",
       "        vertical-align: middle;\n",
       "    }\n",
       "\n",
       "    .dataframe tbody tr th {\n",
       "        vertical-align: top;\n",
       "    }\n",
       "\n",
       "    .dataframe thead th {\n",
       "        text-align: right;\n",
       "    }\n",
       "</style>\n",
       "<table border=\"1\" class=\"dataframe\">\n",
       "  <thead>\n",
       "    <tr style=\"text-align: right;\">\n",
       "      <th></th>\n",
       "      <th>language_bytes</th>\n",
       "    </tr>\n",
       "    <tr>\n",
       "      <th>language_name</th>\n",
       "      <th></th>\n",
       "    </tr>\n",
       "  </thead>\n",
       "  <tbody>\n",
       "    <tr>\n",
       "      <th>1C Enterprise</th>\n",
       "      <td>1050791</td>\n",
       "    </tr>\n",
       "    <tr>\n",
       "      <th>ABAP</th>\n",
       "      <td>9530</td>\n",
       "    </tr>\n",
       "    <tr>\n",
       "      <th>AMPL</th>\n",
       "      <td>3448</td>\n",
       "    </tr>\n",
       "    <tr>\n",
       "      <th>ANTLR</th>\n",
       "      <td>625954</td>\n",
       "    </tr>\n",
       "    <tr>\n",
       "      <th>API Blueprint</th>\n",
       "      <td>98519</td>\n",
       "    </tr>\n",
       "  </tbody>\n",
       "</table>\n",
       "</div>"
      ],
      "text/plain": [
       "               language_bytes\n",
       "language_name                \n",
       "1C Enterprise         1050791\n",
       "ABAP                     9530\n",
       "AMPL                     3448\n",
       "ANTLR                  625954\n",
       "API Blueprint           98519"
      ]
     },
     "execution_count": 11,
     "metadata": {},
     "output_type": "execute_result"
    }
   ],
   "source": [
    "# Create a dataframe with language_name and the total number of bytes written in that language\n",
    "# sort it in descencing order of popularity\n",
    "languages_group = df1.groupby(\"language_name\")\n",
    "language_df = languages_group[\"language_bytes\"].sum().to_frame()\n",
    "language_df[\"language_bytes\"] = language_df[\"language_bytes\"].map(int)\n",
    "#language_df[\"language_bytes\"] = pd.to_numeric(language_df[\"language_bytes\"], errors='ignore')\n",
    "language_df.head()"
   ]
  },
  {
   "cell_type": "code",
   "execution_count": 12,
   "metadata": {},
   "outputs": [
    {
     "data": {
      "text/plain": [
       "language_bytes    3426809176\n",
       "Name: JavaScript, dtype: int64"
      ]
     },
     "execution_count": 12,
     "metadata": {},
     "output_type": "execute_result"
    }
   ],
   "source": [
    "language_df.loc[\"JavaScript\"]"
   ]
  },
  {
   "cell_type": "code",
   "execution_count": 13,
   "metadata": {},
   "outputs": [
    {
     "data": {
      "text/plain": [
       "language_bytes    int64\n",
       "dtype: object"
      ]
     },
     "execution_count": 13,
     "metadata": {},
     "output_type": "execute_result"
    }
   ],
   "source": [
    "# This gives the total number of languages in our dataset\n",
    "language_df.dtypes"
   ]
  },
  {
   "cell_type": "code",
   "execution_count": 14,
   "metadata": {},
   "outputs": [],
   "source": [
    "# Create dataframe with language_name and the number of repositories using that language (repo_count),\n",
    "# sort it in descencing order of popularity\n",
    "language_df[\"repo_count\"]= languages_group[\"repo_name\"].count()\n",
    "language_df = language_df.fillna(0)\n"
   ]
  },
  {
   "cell_type": "code",
   "execution_count": 15,
   "metadata": {},
   "outputs": [
    {
     "data": {
      "text/plain": [
       "pandas.core.frame.DataFrame"
      ]
     },
     "execution_count": 15,
     "metadata": {},
     "output_type": "execute_result"
    }
   ],
   "source": [
    "# get top 20 popular languages by number of repositories\n",
    "top_20_popular_languages_df = language_df.sort_values(\"repo_count\", ascending=False).head(19)\n",
    "top_20_popular_languages  = top_20_popular_languages_df.index.tolist()\n",
    "top_20_popular_languages.append(\"Other\")\n",
    "top_20_popular_languages_index = {k:v for v,k in enumerate(top_20_popular_languages)}\n",
    "type(top_20_popular_languages_df)"
   ]
  },
  {
   "cell_type": "code",
   "execution_count": 16,
   "metadata": {},
   "outputs": [
    {
     "data": {
      "text/plain": [
       "['C',\n",
       " 'C++',\n",
       " 'JavaScript',\n",
       " 'Java',\n",
       " 'Python',\n",
       " 'C#',\n",
       " 'HTML',\n",
       " 'Go',\n",
       " 'PHP',\n",
       " 'Objective-C',\n",
       " 'Jupyter Notebook',\n",
       " 'Ruby',\n",
       " 'CSS',\n",
       " 'TypeScript',\n",
       " 'Scala',\n",
       " 'Swift',\n",
       " 'Assembly',\n",
       " 'Shell',\n",
       " 'Erlang',\n",
       " 'Other']"
      ]
     },
     "execution_count": 16,
     "metadata": {},
     "output_type": "execute_result"
    }
   ],
   "source": [
    "top_20_byte_languages = language_df.sort_values(\"language_bytes\", ascending=False).head(19).index.tolist()\n",
    "top_20_byte_languages.append(\"Other\")\n",
    "top_20_byte_languages"
   ]
  },
  {
   "cell_type": "code",
   "execution_count": 17,
   "metadata": {},
   "outputs": [
    {
     "data": {
      "text/plain": [
       "repo_name\n",
       "01org/appframework                             [3, 1, 0]\n",
       "01org/corelibs-arduino101              [9, 10, 7, 2, 19]\n",
       "01org/idlf                   [14, 9, 10, 16, 3, 0, 4, 2]\n",
       "0k/shyaml                                         [4, 2]\n",
       "0rpc/zerorpc-python                                  [4]\n",
       "Name: language_name, dtype: object"
      ]
     },
     "execution_count": 17,
     "metadata": {},
     "output_type": "execute_result"
    }
   ],
   "source": [
    "other_repo_count = 0\n",
    "def language_name_function(ip_language_list):\n",
    "    global other_repo_count\n",
    "    language_list = []\n",
    "    other_flag = False\n",
    "    for l in ip_language_list:\n",
    "        if l in top_20_popular_languages:\n",
    "            language_list.append(top_20_popular_languages_index[l])\n",
    "        else:\n",
    "            other_flag = True\n",
    "    if other_flag:\n",
    "        other_repo_count += 1\n",
    "        language_list.append(top_20_popular_languages_index[\"Other\"])\n",
    "    return language_list\n",
    "\n",
    "\n",
    "repo_languages = df1.groupby(\"repo_name\")[\"language_name\"].apply(language_name_function)\n",
    "repo_languages.head()"
   ]
  },
  {
   "cell_type": "code",
   "execution_count": 18,
   "metadata": {},
   "outputs": [
    {
     "data": {
      "text/html": [
       "<div>\n",
       "<style scoped>\n",
       "    .dataframe tbody tr th:only-of-type {\n",
       "        vertical-align: middle;\n",
       "    }\n",
       "\n",
       "    .dataframe tbody tr th {\n",
       "        vertical-align: top;\n",
       "    }\n",
       "\n",
       "    .dataframe thead th {\n",
       "        text-align: right;\n",
       "    }\n",
       "</style>\n",
       "<table border=\"1\" class=\"dataframe\">\n",
       "  <thead>\n",
       "    <tr style=\"text-align: right;\">\n",
       "      <th></th>\n",
       "      <th>language_bytes</th>\n",
       "      <th>repo_count</th>\n",
       "    </tr>\n",
       "  </thead>\n",
       "  <tbody>\n",
       "    <tr>\n",
       "      <th>JavaScript</th>\n",
       "      <td>3426809176</td>\n",
       "      <td>6212</td>\n",
       "    </tr>\n",
       "    <tr>\n",
       "      <th>HTML</th>\n",
       "      <td>1104937803</td>\n",
       "      <td>4483</td>\n",
       "    </tr>\n",
       "    <tr>\n",
       "      <th>Shell</th>\n",
       "      <td>118775015</td>\n",
       "      <td>3809</td>\n",
       "    </tr>\n",
       "    <tr>\n",
       "      <th>CSS</th>\n",
       "      <td>319896282</td>\n",
       "      <td>3543</td>\n",
       "    </tr>\n",
       "    <tr>\n",
       "      <th>Python</th>\n",
       "      <td>1492052416</td>\n",
       "      <td>2891</td>\n",
       "    </tr>\n",
       "    <tr>\n",
       "      <th>Ruby</th>\n",
       "      <td>323286011</td>\n",
       "      <td>2549</td>\n",
       "    </tr>\n",
       "    <tr>\n",
       "      <th>Java</th>\n",
       "      <td>3336941414</td>\n",
       "      <td>2403</td>\n",
       "    </tr>\n",
       "    <tr>\n",
       "      <th>Makefile</th>\n",
       "      <td>57854730</td>\n",
       "      <td>1892</td>\n",
       "    </tr>\n",
       "    <tr>\n",
       "      <th>Objective-C</th>\n",
       "      <td>431840619</td>\n",
       "      <td>1814</td>\n",
       "    </tr>\n",
       "    <tr>\n",
       "      <th>C</th>\n",
       "      <td>3884178499</td>\n",
       "      <td>1509</td>\n",
       "    </tr>\n",
       "    <tr>\n",
       "      <th>C++</th>\n",
       "      <td>3591024258</td>\n",
       "      <td>1288</td>\n",
       "    </tr>\n",
       "    <tr>\n",
       "      <th>PHP</th>\n",
       "      <td>831314075</td>\n",
       "      <td>1096</td>\n",
       "    </tr>\n",
       "    <tr>\n",
       "      <th>Go</th>\n",
       "      <td>900943340</td>\n",
       "      <td>1078</td>\n",
       "    </tr>\n",
       "    <tr>\n",
       "      <th>Swift</th>\n",
       "      <td>181816032</td>\n",
       "      <td>981</td>\n",
       "    </tr>\n",
       "    <tr>\n",
       "      <th>Batchfile</th>\n",
       "      <td>6102069</td>\n",
       "      <td>624</td>\n",
       "    </tr>\n",
       "    <tr>\n",
       "      <th>C#</th>\n",
       "      <td>1221332050</td>\n",
       "      <td>534</td>\n",
       "    </tr>\n",
       "    <tr>\n",
       "      <th>CMake</th>\n",
       "      <td>34411967</td>\n",
       "      <td>494</td>\n",
       "    </tr>\n",
       "    <tr>\n",
       "      <th>None</th>\n",
       "      <td>0</td>\n",
       "      <td>483</td>\n",
       "    </tr>\n",
       "    <tr>\n",
       "      <th>Dockerfile</th>\n",
       "      <td>2985764</td>\n",
       "      <td>435</td>\n",
       "    </tr>\n",
       "    <tr>\n",
       "      <th>Other</th>\n",
       "      <td>0</td>\n",
       "      <td>4127</td>\n",
       "    </tr>\n",
       "  </tbody>\n",
       "</table>\n",
       "</div>"
      ],
      "text/plain": [
       "             language_bytes  repo_count\n",
       "JavaScript       3426809176        6212\n",
       "HTML             1104937803        4483\n",
       "Shell             118775015        3809\n",
       "CSS               319896282        3543\n",
       "Python           1492052416        2891\n",
       "Ruby              323286011        2549\n",
       "Java             3336941414        2403\n",
       "Makefile           57854730        1892\n",
       "Objective-C       431840619        1814\n",
       "C                3884178499        1509\n",
       "C++              3591024258        1288\n",
       "PHP               831314075        1096\n",
       "Go                900943340        1078\n",
       "Swift             181816032         981\n",
       "Batchfile           6102069         624\n",
       "C#               1221332050         534\n",
       "CMake              34411967         494\n",
       "None                      0         483\n",
       "Dockerfile          2985764         435\n",
       "Other                     0        4127"
      ]
     },
     "execution_count": 18,
     "metadata": {},
     "output_type": "execute_result"
    }
   ],
   "source": [
    "# Figure out how many repos have only \"Other\" languuages\n",
    "top_20_popular_languages_df= top_20_popular_languages_df.append(pd.DataFrame.from_dict({'Other':[0, other_repo_count]}, orient='index', columns=[\"language_bytes\", \"repo_count\"]))\n",
    "top_20_popular_languages_df"
   ]
  },
  {
   "cell_type": "code",
   "execution_count": 19,
   "metadata": {},
   "outputs": [],
   "source": [
    "repo_languages_matrix = [[0 for _ in top_20_popular_languages] for _ in top_20_popular_languages]\n"
   ]
  },
  {
   "cell_type": "code",
   "execution_count": 20,
   "metadata": {},
   "outputs": [],
   "source": [
    "for  language_list in repo_languages:\n",
    "    w = 1\n",
    "    for i,j in itertools.combinations(language_list,2):\n",
    "        #print(i,j)\n",
    "        repo_languages_matrix[i][j] += w\n",
    "        repo_languages_matrix[j][i] += w\n",
    "for k, lang in enumerate(top_20_popular_languages_df.index):\n",
    "    repo_languages_matrix[k][k] = top_20_popular_languages_df.loc[lang][\"repo_count\"]\n",
    "\n"
   ]
  },
  {
   "cell_type": "code",
   "execution_count": 21,
   "metadata": {},
   "outputs": [],
   "source": [
    "with open(\"data_ip.js\",\"w\") as op_file:    \n",
    "    op_file.write(\"repo_languages_matrix = \")\n",
    "    op_file.write(str(repo_languages_matrix))"
   ]
  },
  {
   "cell_type": "code",
   "execution_count": 22,
   "metadata": {},
   "outputs": [
    {
     "data": {
      "text/plain": [
       "18996"
      ]
     },
     "execution_count": 22,
     "metadata": {},
     "output_type": "execute_result"
    }
   ],
   "source": [
    "sum(repo_languages_matrix[1])"
   ]
  },
  {
   "cell_type": "code",
   "execution_count": 23,
   "metadata": {},
   "outputs": [],
   "source": [
    "from matplotlib import pyplot as plt\n",
    "from scipy.cluster.hierarchy import dendrogram, linkage\n",
    "import numpy as np\n",
    "%matplotlib inline\n",
    "from scipy.cluster.hierarchy import cophenet\n",
    "from scipy.spatial.distance import pdist"
   ]
  },
  {
   "cell_type": "code",
   "execution_count": 24,
   "metadata": {},
   "outputs": [],
   "source": [
    "Z = linkage(repo_languages_matrix, 'ward')"
   ]
  },
  {
   "cell_type": "code",
   "execution_count": 25,
   "metadata": {},
   "outputs": [
    {
     "data": {
      "text/plain": [
       "0.876178268809121"
      ]
     },
     "execution_count": 25,
     "metadata": {},
     "output_type": "execute_result"
    }
   ],
   "source": [
    "c, coph_dists = cophenet(Z, pdist(repo_languages_matrix))\n",
    "c"
   ]
  },
  {
   "cell_type": "code",
   "execution_count": 26,
   "metadata": {},
   "outputs": [
    {
     "data": {
      "image/png": "[encoded data removed]",
      "text/plain": [
       "<Figure size 432x288 with 1 Axes>"
      ]
     },
     "metadata": {},
     "output_type": "display_data"
    }
   ],
   "source": [
    "dend_data = dendrogram(\n",
    "    Z,\n",
    "    leaf_rotation=90.,  # rotates the x axis labels\n",
    "    leaf_font_size=8.,  # font size for the x axis labels\n",
    "    leaf_label_func = lambda id:top_20_popular_languages[id]\n",
    ")\n",
    "plt.show()"
   ]
  },
  {
   "cell_type": "code",
   "execution_count": 27,
   "metadata": {},
   "outputs": [
    {
     "data": {
      "text/plain": [
       "['Python',\n",
       " 'Makefile',\n",
       " 'C',\n",
       " 'C++',\n",
       " 'Ruby',\n",
       " 'Objective-C',\n",
       " 'Swift',\n",
       " 'Java',\n",
       " 'PHP',\n",
       " 'Go',\n",
       " 'None',\n",
       " 'C#',\n",
       " 'Dockerfile',\n",
       " 'Batchfile',\n",
       " 'CMake',\n",
       " 'Shell',\n",
       " 'Other',\n",
       " 'JavaScript',\n",
       " 'HTML',\n",
       " 'CSS']"
      ]
     },
     "execution_count": 27,
     "metadata": {},
     "output_type": "execute_result"
    }
   ],
   "source": [
    "dend_data[\"ivl\"]"
   ]
  },
  {
   "cell_type": "code",
   "execution_count": 28,
   "metadata": {},
   "outputs": [],
   "source": [
    "import plotly.plotly as py\n",
    "import plotly.figure_factory as ff\n",
    "import plotly\n",
    "plotly.tools.set_credentials_file(username='Sago', api_key='6PUqwPdLYUx2seHNmW2w')\n",
    "import scipy.cluster.hierarchy as sch\n",
    "import scipy.spatial as scs"
   ]
  },
  {
   "cell_type": "code",
   "execution_count": 29,
   "metadata": {},
   "outputs": [
    {
     "name": "stdout",
     "output_type": "stream",
     "text": [
      "High five! You successfully sent some data to your account on plotly. View your plot in your browser at https://plot.ly/~Sago/0 or inside your plot.ly account where it is named 'github_dendrogram'\n"
     ]
    },
    {
     "data": {
      "text/html": [
       "<iframe id=\"igraph\" scrolling=\"no\" style=\"border:none;\" seamless=\"seamless\" src=\"https://plot.ly/~Sago/0.embed\" height=\"800px\" width=\"800px\"></iframe>"
      ],
      "text/plain": [
       "<plotly.tools.PlotlyDisplay object>"
      ]
     },
     "execution_count": 29,
     "metadata": {},
     "output_type": "execute_result"
    }
   ],
   "source": [
    "fig = ff.create_dendrogram(np.asarray(repo_languages_matrix), labels=top_20_popular_languages, linkagefun=lambda x: sch.linkage(x, 'ward'))\n",
    "fig['layout'].update({'width':800, 'height':800})\n",
    "py.iplot(fig, filename=\"github_dendrogram\", auto_open=True)"
   ]
  },
  {
   "cell_type": "code",
   "execution_count": 30,
   "metadata": {},
   "outputs": [],
   "source": [
    "import seaborn as sns"
   ]
  },
  {
   "cell_type": "code",
   "execution_count": 31,
   "metadata": {},
   "outputs": [],
   "source": [
    "repo_df = pd.DataFrame(repo_languages_matrix, index= top_20_popular_languages, columns = top_20_popular_languages)\n"
   ]
  },
  {
   "cell_type": "code",
   "execution_count": 32,
   "metadata": {},
   "outputs": [
    {
     "data": {
      "image/png": "[encoded data removed]",
      "text/plain": [
       "<Figure size 1152x1152 with 4 Axes>"
      ]
     },
     "metadata": {},
     "output_type": "display_data"
    }
   ],
   "source": [
    "cg1 = sns.clustermap(repo_df, figsize=(16,16), method=\"ward\", cmap=\"vlag\", annot=True, fmt='d', annot_kws={'size':7}, robust=True, center=2000)\n"
   ]
  },
  {
   "cell_type": "code",
   "execution_count": 33,
   "metadata": {},
   "outputs": [],
   "source": [
    "nodes = []\n",
    "links = []\n",
    "for i, lang in enumerate(top_20_popular_languages):\n",
    "    for j, _ in enumerate(top_20_popular_languages):\n",
    "        if int(repo_languages_matrix[i][j]) == 0:\n",
    "            continue\n",
    "        if i==j:\n",
    "            nodes.append({\"id\":lang, \"size\": int(repo_languages_matrix[i][i])})\n",
    "        elif i>j:\n",
    "            links.append({\"source\":lang,\"target\":top_20_popular_languages[j], \"value\":int(repo_languages_matrix[i][j])})\n",
    "graph = {\"nodes\":nodes, \"links\":links}\n",
    "#pprint(graph)\n",
    "    "
   ]
  },
  {
   "cell_type": "code",
   "execution_count": 34,
   "metadata": {},
   "outputs": [],
   "source": [
    "with open(\"graph_ip.json\",\"w\") as op_file:  \n",
    "    json.dump(graph, op_file, sort_keys=True, indent=4)\n"
   ]
  },
  {
   "cell_type": "code",
   "execution_count": null,
   "metadata": {},
   "outputs": [],
   "source": []
  }
 ],
 "metadata": {
  "kernelspec": {
   "display_name": "Python 3",
   "language": "python",
   "name": "python3"
  },
  "language_info": {
   "codemirror_mode": {
    "name": "ipython",
    "version": 3
   },
   "file_extension": ".py",
   "mimetype": "text/x-python",
   "name": "python",
   "nbconvert_exporter": "python",
   "pygments_lexer": "ipython3",
   "version": "3.6.5"
  }
 },
 "nbformat": 4,
 "nbformat_minor": 2
}
